{
 "metadata": {
  "language_info": {
   "codemirror_mode": {
    "name": "ipython",
    "version": 3
   },
   "file_extension": ".py",
   "mimetype": "text/x-python",
   "name": "python",
   "nbconvert_exporter": "python",
   "pygments_lexer": "ipython3",
   "version": 3
  },
  "orig_nbformat": 2
 },
 "nbformat": 4,
 "nbformat_minor": 2,
 "cells": [
  {
   "cell_type": "code",
   "execution_count": null,
   "metadata": {},
   "outputs": [],
   "source": [
    "from google.colab import drive\n",
    "drive.mount('/content/drive')"
   ]
  },
  {
   "cell_type": "code",
   "execution_count": null,
   "metadata": {},
   "outputs": [],
   "source": [
    "import tensorflow as tf\n",
    "import keras_preprocessing\n",
    "from keras_preprocessing import image\n",
    "from keras_preprocessing.image import ImageDataGenerator\n",
    "\n",
    "training_dir='/content/drive/My Drive/datax/project'\n",
    "testing_dir='/content/drive/My Drive/data/test'\n",
    "\n",
    "training_datagen = ImageDataGenerator(\n",
    "      rescale = 1./255,\n",
    "\t  rotation_range=40,\n",
    "      width_shift_range=0.2,\n",
    "      height_shift_range=0.2,\n",
    "      shear_range=0.2,\n",
    "      zoom_range=0.2,\n",
    "      horizontal_flip=True\n",
    "      )\n",
    "\n",
    "validation_datagen = ImageDataGenerator(rescale = 1./255)\n",
    "\n",
    "train_generator = training_datagen.flow_from_directory(\n",
    "\ttraining_dir,\n",
    "\ttarget_size=(224,224),\n",
    "\tclass_mode='categorical',\n",
    "  batch_size=128\n",
    ")\n",
    "\n",
    "validation_generator = validation_datagen.flow_from_directory(\n",
    "\ttesting_dir,\n",
    "\ttarget_size=(224,224),\n",
    "\tclass_mode='categorical',\n",
    "  batch_size=128\n",
    ")"
   ]
  },
  {
   "cell_type": "code",
   "execution_count": null,
   "metadata": {},
   "outputs": [],
   "source": [
    "base_model = tf.keras.applications.MobileNetV2(include_top=False,\n",
    "                                weights='imagenet',\n",
    "                                input_shape=(224,224,3))\n",
    "model = tf.keras.models.Sequential()\n",
    "model.add(base_model)\n",
    "model.add(tf.keras.layers.Flatten())\n",
    "model.add(tf.keras.layers.Dropout(0.2))\n",
    "model.add(tf.keras.layers.Dense(128, activation='relu'))\n",
    "model.add(tf.keras.layers.Dense(10, activation='softmax'))\n",
    "\n",
    "for layer in base_model.layers:\n",
    "    layer.trainable = False\n"
   ]
  },
  {
   "cell_type": "code",
   "execution_count": null,
   "metadata": {},
   "outputs": [],
   "source": [
    "class myCallback(tf.keras.callbacks.Callback):\n",
    "  def on_epoch_end(self, epoch, logs={}):\n",
    "    if(logs.get('accuracy')>0.99):\n",
    "      print(\"\\nReached 99% accuracy so cancelling training!\")\n",
    "      self.model.stop_training = True\n",
    "\n",
    "callbacks = myCallback()"
   ]
  },
  {
   "cell_type": "code",
   "execution_count": null,
   "metadata": {},
   "outputs": [],
   "source": [
    "model.summary()\n",
    "\n",
    "model.compile(loss = 'categorical_crossentropy', optimizer='rmsprop', metrics=['accuracy'])\n",
    "\n",
    "history = model.fit(train_generator, epochs=20, validation_data = validation_generator, verbose = 1, callbacks=[callbacks])\n",
    "model.save('/content/drive/My Drive/ts.h5')"
   ]
  },
  {
   "cell_type": "code",
   "execution_count": null,
   "metadata": {},
   "outputs": [],
   "source": [
    "import matplotlib.pyplot as plt\n",
    "acc = history.history['accuracy']\n",
    "val_acc = history.history['val_accuracy']\n",
    "loss = history.history['loss']\n",
    "val_loss = history.history['val_loss']\n",
    "\n",
    "epochs = range(len(acc))\n",
    "\n",
    "plt.plot(epochs, acc, 'r', label='Training accuracy')\n",
    "plt.plot(epochs, val_acc, 'b', label='Validation accuracy')\n",
    "plt.title('Training and validation accuracy')\n",
    "plt.legend(loc=0)\n",
    "plt.figure()\n",
    "\n",
    "\n",
    "plt.show()"
   ]
  },
  {
   "cell_type": "code",
   "execution_count": null,
   "metadata": {},
   "outputs": [],
   "source": [
    "import pandas as pd\n",
    "pesticide={\n",
    "'pest':['asiatic rice borer','black cutworm','mole cricket','paddy stem maggot','red spider','rice gall                     midge','rice leafhopper','rice water weevil','small brown plant hopper','wireworm'],\n",
    "'remedy':['Spray products containing chlorantraniliprole','Products containing chlorpyrifos, beta-methrin,               delta methrin','Spray Sevin Insect Killer','Spray Cartap Hydrochloride','Spray wettable sulphur 50','Spray        Phosalone','Spray Phosphamidon','Spray Lambda-cyhalothrin, diflubenzuron','Spray buprofezin, pymetrozine',       'Spray Pyrethrin']\n",
    "}\n",
    "\n",
    "df=pd.DataFrame(pesticide,columns=['pest','remedy'],index=[0,1,2,3,4,5,6,7,8,9])\n",
    "print(df)"
   ]
  },
  {
   "cell_type": "code",
   "execution_count": null,
   "metadata": {},
   "outputs": [],
   "source": [
    "import numpy as np\n",
    "from google.colab import files\n",
    "from keras.preprocessing import image\n",
    " model=load_model()\n",
    "uploaded = files.upload()\n",
    " \n",
    "for fn in uploaded.keys():\n",
    " \n",
    "  # predicting images\n",
    "  path = fn\n",
    "  img = image.load_img(path, target_size=(224, 224))\n",
    "  x = image.img_to_array(img)\n",
    "  x=x/255.0\n",
    "  x = np.expand_dims(x, axis=0)\n",
    " \n",
    "  images = np.vstack([x])\n",
    "  classes = model.predict(images, batch_size=128)\n",
    "  print(fn)\n",
    "  print(classes)"
   ]
  },
  {
   "cell_type": "code",
   "execution_count": null,
   "metadata": {},
   "outputs": [],
   "source": [
    "model=load_model('/content/drive/My Drive/ts.h5')\n",
    "uploaded = files.upload()\n",
    "import pandas as pd\n",
    "pesticide={\n",
    "    'pest':['asiatic rice borer','black cutworm','mole cricket','paddy stem maggot','red spider','rice gall midge','rice leafhopper','rice water weevil','small brown plant hopper','wireworm'],\n",
    "    'remedy':['Spray products containing chlorantraniliprole','Products containing chlorpyrifos, beta-methrin, delta methrin','Spray Sevin Insect Killer','Spray Cartap Hydrochloride','Spray wettable sulphur 50','Spray Phosalone','Spray Phosphamidon','Spray Lambda-cyhalothrin, diflubenzuron','Spray buprofezin, pymetrozine','Spray Pyrethrin']\n",
    "}\n",
    "\n",
    "df=pd.DataFrame(pesticide,columns=['pest','remedy'],index=[0,1,2,3,4,5,6,7,8,9])\n",
    "for fn in uploaded.keys():\n",
    "  path = fn\n",
    "  img = image.load_img(path, target_size=(224, 224))\n",
    "  x = image.img_to_array(img)\n",
    "  x=x/255.0\n",
    "  x = np.expand_dims(x, axis=0)\n",
    " \n",
    "  images = np.vstack([x])\n",
    "  classes = model.predict(images, batch_size=128)\n",
    "  print(classes)\n",
    "  print('pest:')\n",
    "  print(df.loc[np.argmax(classes)]['pest'])\n",
    "  print('Pesticide:')\n",
    "  print(df.loc[np.argmax(classes)]['remedy'])"
   ]
  }
 ]
}